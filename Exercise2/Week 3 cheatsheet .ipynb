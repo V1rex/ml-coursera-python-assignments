{
 "cells": [
  {
   "cell_type": "markdown",
   "id": "0f4ebf38",
   "metadata": {},
   "source": [
    "### Importing librairies "
   ]
  },
  {
   "cell_type": "code",
   "execution_count": 1,
   "id": "8f683073",
   "metadata": {},
   "outputs": [],
   "source": [
    "# used for manipulating directory paths\n",
    "import os\n",
    "\n",
    "# Scientific and vector computation for python\n",
    "import numpy as np\n",
    "\n",
    "# Plotting library\n",
    "from matplotlib import pyplot\n",
    "\n",
    "# Optimization module in scipy\n",
    "from scipy import optimize"
   ]
  },
  {
   "cell_type": "markdown",
   "id": "79c71e20",
   "metadata": {},
   "source": [
    "### Loading data "
   ]
  },
  {
   "cell_type": "code",
   "execution_count": 2,
   "id": "91876bd4",
   "metadata": {},
   "outputs": [],
   "source": [
    "data = np.loadtxt(os.path.join('Data', 'ex2data1.txt'), delimiter=',')\n",
    "X, y = data[:, 0:2], data[:, 2]"
   ]
  },
  {
   "cell_type": "markdown",
   "id": "784d6adf",
   "metadata": {},
   "source": [
    "### Visualizing the data "
   ]
  },
  {
   "cell_type": "code",
   "execution_count": 20,
   "id": "6409aa26",
   "metadata": {},
   "outputs": [],
   "source": [
    "def plotData(X, y): \n",
    "    fig = pyplot.figure()\n",
    "    \n",
    "    #finding admitted students indexes \n",
    "    pos = y == 1 \n",
    "    \n",
    "    #finding non-admitted students indexes \n",
    "    neg = y == 0\n",
    "    \n",
    "    pyplot.plot(X[pos, 0], X[pos, 1], 'k*', lw=2, ms=10)\n",
    "    pyplot.plot(X[neg, 0], X[neg, 1], 'ko', mfc='y', ms=8, mec='k', mew=1)"
   ]
  },
  {
   "cell_type": "code",
   "execution_count": 22,
   "id": "de24a09a",
   "metadata": {},
   "outputs": [
    {
     "data": {
      "text/plain": [
       "<matplotlib.legend.Legend at 0x1e057856970>"
      ]
     },
     "execution_count": 22,
     "metadata": {},
     "output_type": "execute_result"
    },
    {
     "data": {
      "image/png": "[encoded data removed]",
      "text/plain": [
       "<Figure size 432x288 with 1 Axes>"
      ]
     },
     "metadata": {
      "needs_background": "light"
     },
     "output_type": "display_data"
    }
   ],
   "source": [
    "plotData(X,y)\n",
    "# add axes labels\n",
    "pyplot.xlabel('Exam 1 score')\n",
    "pyplot.ylabel('Exam 2 score')\n",
    "pyplot.legend(['Admitted', 'Not admitted'])"
   ]
  },
  {
   "cell_type": "markdown",
   "id": "c2e0ca74",
   "metadata": {},
   "source": [
    "### implementing the sigmoid function "
   ]
  },
  {
   "cell_type": "code",
   "execution_count": 23,
   "id": "10c37418",
   "metadata": {},
   "outputs": [],
   "source": [
    "def sigmoid(z):\n",
    "    def sig(x):\n",
    "         return 1/(1 + np.exp(-x))\n",
    "    z = np.array(z)\n",
    "    \n",
    "    \n",
    "    vfunc = np.vectorize(sig) \n",
    "    \n",
    "    g = vfunc(z)\n",
    "    \n",
    "    return g \n",
    "    "
   ]
  },
  {
   "cell_type": "markdown",
   "id": "19e68b85",
   "metadata": {},
   "source": [
    "#### test of the sigmoid function "
   ]
  },
  {
   "cell_type": "code",
   "execution_count": 28,
   "id": "268830a9",
   "metadata": {},
   "outputs": [
    {
     "name": "stdout",
     "output_type": "stream",
     "text": [
      "g( [[0], [1], [0], [1]] ) =  [[0.5       ]\n",
      " [0.73105858]\n",
      " [0.5       ]\n",
      " [0.73105858]]\n"
     ]
    }
   ],
   "source": [
    "z = [[0],[1],[0],[1]]\n",
    "g = sigmoid(z)\n",
    "\n",
    "print('g(', z, ') = ', g)"
   ]
  },
  {
   "cell_type": "markdown",
   "id": "7905bf26",
   "metadata": {},
   "source": [
    "### cost function \n"
   ]
  }
 ],
 "metadata": {
  "kernelspec": {
   "display_name": "Python 3 (ipykernel)",
   "language": "python",
   "name": "python3"
  },
  "language_info": {
   "codemirror_mode": {
    "name": "ipython",
    "version": 3
   },
   "file_extension": ".py",
   "mimetype": "text/x-python",
   "name": "python",
   "nbconvert_exporter": "python",
   "pygments_lexer": "ipython3",
   "version": "3.9.7"
  }
 },
 "nbformat": 4,
 "nbformat_minor": 5
}
